{
 "cells": [
  {
   "cell_type": "markdown",
   "id": "ef9434ad-17e0-4c50-a776-e5629f4b4432",
   "metadata": {},
   "source": [
    "# Orbital trajectory design and calculations"
   ]
  },
  {
   "cell_type": "markdown",
   "id": "2f524b31-a07d-492b-af4d-1addb733c4b6",
   "metadata": {},
   "source": [
    "This notebook describes the basic orbital characteristics of the Elara space swarms and showcases several important orbital calculations."
   ]
  },
  {
   "cell_type": "markdown",
   "id": "e86bb08a-8609-452e-a06c-eef4b12ed502",
   "metadata": {},
   "source": [
    "So three parts:\n",
    "\n",
    "- General calculation using astropy and SciPy's numerical integration facilities in association with NASA gravity data from <https://ssd.jpl.nasa.gov/tools/gravity.html> and the WGS 84 geopotential model; advantage is that astropy already has the [Geocentric Celestial Reference System (GCRS)](https://en.wikipedia.org/wiki/Barycentric_and_geocentric_celestial_reference_systems) loaded and ready (see [API here](https://docs.astropy.org/en/stable/api/astropy.coordinates.GCRS.html)), which provides relativistically-accurate coordinates for very accurate solving\n",
    "- Precision calculation using EinsteinPy with the same things\n",
    "\n",
    "See also: <https://www.nasa.gov/smallsat-institute/space-mission-design-tools/>"
   ]
  }
 ],
 "metadata": {
  "kernelspec": {
   "display_name": "Python 3 (ipykernel)",
   "language": "python",
   "name": "python3"
  },
  "language_info": {
   "codemirror_mode": {
    "name": "ipython",
    "version": 3
   },
   "file_extension": ".py",
   "mimetype": "text/x-python",
   "name": "python",
   "nbconvert_exporter": "python",
   "pygments_lexer": "ipython3",
   "version": "3.12.5"
  }
 },
 "nbformat": 4,
 "nbformat_minor": 5
}
