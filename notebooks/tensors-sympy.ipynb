{
 "cells": [
  {
   "cell_type": "markdown",
   "id": "8f48369a-8223-457e-874b-9f4fcd1c4f9b",
   "metadata": {},
   "source": [
    "# Tensor algebra and calculus in SymPy"
   ]
  },
  {
   "cell_type": "markdown",
   "id": "9e8db314-75d9-45a4-a990-174572767283",
   "metadata": {},
   "source": [
    "This is a test notebook in tensor operations using SymPy. It may be very useful in both automated/semi-automated weak form generation for finite element problems and for PDEs in general, as well as advanced EM and theoretical research for Elara in the future."
   ]
  },
  {
   "cell_type": "code",
   "execution_count": 13,
   "id": "330b457f-65aa-4a36-892d-78eff8bbf20d",
   "metadata": {},
   "outputs": [],
   "source": [
    "from sympy.tensor.tensor import TensorIndexType, TensorIndex, TensorHead, tensor_indices, TensorSymmetry\n",
    "from sympy.tensor.toperators import PartialDerivative as pdiff\n",
    "from sympy import diag, Rational, symbols"
   ]
  },
  {
   "cell_type": "code",
   "execution_count": 14,
   "id": "e2091bea-fcdb-4ee7-94cf-40b9408644ef",
   "metadata": {},
   "outputs": [],
   "source": [
    "mu, nu = tensor_indices('mu, nu', Lorentz)\n",
    "\n",
    "# define also some lower indices\n",
    "alpha = TensorIndex('alpha', Lorentz, is_up=False)\n",
    "beta = TensorIndex('beta', Lorentz, is_up=False)"
   ]
  },
  {
   "cell_type": "code",
   "execution_count": 15,
   "id": "9ea22f54-f69a-4991-a7c4-82ad4c2b88b3",
   "metadata": {},
   "outputs": [],
   "source": [
    "Lorentz = TensorIndexType('Lorentz', metric_name=r\"\\eta\", dim=4)"
   ]
  },
  {
   "cell_type": "code",
   "execution_count": 16,
   "id": "639d5148-4a90-460e-ae24-f841a5eba2ca",
   "metadata": {},
   "outputs": [
    {
     "data": {
      "text/latex": [
       "$\\displaystyle \\eta{}^{\\mu\\nu}$"
      ],
      "text/plain": [
       "\\eta(mu, nu)"
      ]
     },
     "execution_count": 16,
     "metadata": {},
     "output_type": "execute_result"
    }
   ],
   "source": [
    "Lorentz.metric(mu, nu)"
   ]
  },
  {
   "cell_type": "code",
   "execution_count": 17,
   "id": "885f4aa3-b549-4336-b203-a98c9afdefe6",
   "metadata": {},
   "outputs": [],
   "source": [
    "# EM 4-potential\n",
    "A = TensorHead('A', [Lorentz])"
   ]
  },
  {
   "cell_type": "code",
   "execution_count": 18,
   "id": "39ca375b-82fe-41d5-b6ab-db9e898182ec",
   "metadata": {},
   "outputs": [
    {
     "data": {
      "text/latex": [
       "$\\displaystyle A{}^{\\mu}$"
      ],
      "text/plain": [
       "A(mu)"
      ]
     },
     "execution_count": 18,
     "metadata": {},
     "output_type": "execute_result"
    }
   ],
   "source": [
    "A(mu)"
   ]
  },
  {
   "cell_type": "code",
   "execution_count": 20,
   "id": "e0ffa779-024a-4b8a-be24-c8f8675f9358",
   "metadata": {},
   "outputs": [
    {
     "data": {
      "text/latex": [
       "$\\displaystyle A{}^{\\nu}$"
      ],
      "text/plain": [
       "A(nu)"
      ]
     },
     "execution_count": 20,
     "metadata": {},
     "output_type": "execute_result"
    }
   ],
   "source": [
    "A(nu)"
   ]
  },
  {
   "cell_type": "code",
   "execution_count": 21,
   "id": "8d5355ad-34c3-41c4-8e82-1bf0e5a52b1a",
   "metadata": {},
   "outputs": [],
   "source": [
    "F = TensorHead('F', [Lorentz, Lorentz])"
   ]
  },
  {
   "cell_type": "code",
   "execution_count": 22,
   "id": "2cedc425-9789-478d-990a-25ea7bef71c4",
   "metadata": {},
   "outputs": [
    {
     "data": {
      "text/latex": [
       "$\\displaystyle F{}^{\\mu\\nu}$"
      ],
      "text/plain": [
       "F(mu, nu)"
      ]
     },
     "execution_count": 22,
     "metadata": {},
     "output_type": "execute_result"
    }
   ],
   "source": [
    "F(mu, nu)"
   ]
  },
  {
   "cell_type": "code",
   "execution_count": 23,
   "id": "6e871f6c-c759-4067-ad6f-db2335468157",
   "metadata": {},
   "outputs": [
    {
     "data": {
      "text/latex": [
       "$\\displaystyle F{}_{\\alpha\\beta}$"
      ],
      "text/plain": [
       "F(-alpha, -beta)"
      ]
     },
     "execution_count": 23,
     "metadata": {},
     "output_type": "execute_result"
    }
   ],
   "source": [
    "F(alpha, beta).contract_metric(Lorentz.metric(alpha, beta))"
   ]
  },
  {
   "cell_type": "markdown",
   "id": "ac289def-4302-4ecd-9903-73ac30ee4788",
   "metadata": {},
   "source": [
    "Now let us attempt to do an automated derivation of the Maxwell equations from the EM Lagrangian:"
   ]
  },
  {
   "cell_type": "code",
   "execution_count": 24,
   "id": "c78d274f-f418-4a9d-82b3-58418196ec5a",
   "metadata": {},
   "outputs": [],
   "source": [
    "asym2 = TensorSymmetry.fully_symmetric(-2) # fully antisemetric rank-1"
   ]
  },
  {
   "cell_type": "code",
   "execution_count": 28,
   "id": "d80cfeb9-4cee-4419-a6f2-d9093bd7a177",
   "metadata": {},
   "outputs": [],
   "source": [
    "em_fourpotential = TensorHead(\"A\", [Lorentz])"
   ]
  },
  {
   "cell_type": "code",
   "execution_count": 29,
   "id": "c470ffe3-955f-494c-93b5-08b34e38a8c6",
   "metadata": {},
   "outputs": [
    {
     "data": {
      "text/latex": [
       "$\\displaystyle A{}^{\\nu}$"
      ],
      "text/plain": [
       "A(nu)"
      ]
     },
     "execution_count": 29,
     "metadata": {},
     "output_type": "execute_result"
    }
   ],
   "source": [
    "em_fourpotential(nu)"
   ]
  },
  {
   "cell_type": "code",
   "execution_count": 40,
   "id": "e08b48e5-1285-4517-be21-07180029e517",
   "metadata": {},
   "outputs": [],
   "source": [
    "x = TensorHead(\"x\", [Lorentz_down])"
   ]
  },
  {
   "cell_type": "code",
   "execution_count": 41,
   "id": "742ab7aa-794d-4828-a43c-93c127914bc6",
   "metadata": {},
   "outputs": [
    {
     "data": {
      "text/latex": [
       "$\\displaystyle x{}^{\\mu}$"
      ],
      "text/plain": [
       "x(mu)"
      ]
     },
     "execution_count": 41,
     "metadata": {},
     "output_type": "execute_result"
    }
   ],
   "source": [
    "x(mu)"
   ]
  },
  {
   "cell_type": "code",
   "execution_count": 42,
   "id": "0abae947-c314-4b8d-9abc-206bd38aa065",
   "metadata": {},
   "outputs": [
    {
     "data": {
      "text/latex": [
       "$\\displaystyle x{}^{\\nu}$"
      ],
      "text/plain": [
       "x(nu)"
      ]
     },
     "execution_count": 42,
     "metadata": {},
     "output_type": "execute_result"
    }
   ],
   "source": [
    "x(nu)"
   ]
  },
  {
   "cell_type": "code",
   "execution_count": 51,
   "id": "03e68353-ba9e-4712-bea1-c49c90bb3827",
   "metadata": {},
   "outputs": [],
   "source": [
    "faraday = pdiff(em_fourpotential(-mu), x(-nu)) # - pdiff(em_fourpotential(-nu), x(-mu))"
   ]
  },
  {
   "cell_type": "code",
   "execution_count": 37,
   "id": "fbf755f1-c595-456f-a167-c7d097062b9d",
   "metadata": {},
   "outputs": [
    {
     "data": {
      "text/latex": [
       "$\\displaystyle \\frac{\\partial}{\\partial {x{}^{\\nu}}}{A{}^{\\mu}}$"
      ],
      "text/plain": [
       "PartialDerivative(A(mu), x(nu))"
      ]
     },
     "execution_count": 37,
     "metadata": {},
     "output_type": "execute_result"
    }
   ],
   "source": [
    "faraday"
   ]
  },
  {
   "cell_type": "code",
   "execution_count": 38,
   "id": "1fc100aa-a8fc-4a95-956c-8f2dc7094b8a",
   "metadata": {},
   "outputs": [
    {
     "data": {
      "text/latex": [
       "$\\displaystyle \\frac{\\partial}{\\partial {x{}^{\\mu}}}{A{}^{\\nu}}$"
      ],
      "text/plain": [
       "PartialDerivative(A(nu), x(mu))"
      ]
     },
     "execution_count": 38,
     "metadata": {},
     "output_type": "execute_result"
    }
   ],
   "source": [
    "pdiff(em_fourpotential(nu), x(mu))"
   ]
  },
  {
   "cell_type": "code",
   "execution_count": 52,
   "id": "c6837ccb-ca17-4221-91ed-b10ee30c52f8",
   "metadata": {},
   "outputs": [],
   "source": [
    "faraday = TensorHead('F', [Lorentz, Lorentz], asym2)"
   ]
  },
  {
   "cell_type": "code",
   "execution_count": 53,
   "id": "383825fb-a45d-409e-9e30-6931c49cba7d",
   "metadata": {},
   "outputs": [],
   "source": [
    "# free_lagrangian_EM = -Rational(1, 4) * F(mu, nu) * F(mu_down, nu_down).contract_metric(Lorentz.metric(alpha, beta))\n",
    "faraday_contravariant = F(mu, nu)\n",
    "faraday_covariant = F(alpha, beta)"
   ]
  },
  {
   "cell_type": "code",
   "execution_count": 54,
   "id": "27be5fc6-18b2-41f0-b04d-3c9936de0c72",
   "metadata": {},
   "outputs": [],
   "source": [
    "free_lagrangian_EM = -Rational(1, 4) * (faraday_contravariant*faraday_covariant)"
   ]
  },
  {
   "cell_type": "code",
   "execution_count": 55,
   "id": "61ae6396-bd67-4d87-be91-a6a5b45cafb6",
   "metadata": {},
   "outputs": [
    {
     "data": {
      "text/latex": [
       "$\\displaystyle -\\left(\\frac{1}{4}\\right)F{}^{\\mu\\nu}F{}_{\\alpha\\beta}$"
      ],
      "text/plain": [
       "-(1/4)*F(mu, nu)*F(-alpha, -beta)"
      ]
     },
     "execution_count": 55,
     "metadata": {},
     "output_type": "execute_result"
    }
   ],
   "source": [
    "free_lagrangian_EM"
   ]
  },
  {
   "cell_type": "code",
   "execution_count": null,
   "id": "a3b0479d-f18a-4381-97e4-1044d6946897",
   "metadata": {},
   "outputs": [],
   "source": [
    "# def euler_lagrange_eq():"
   ]
  }
 ],
 "metadata": {
  "kernelspec": {
   "display_name": "Python 3 (ipykernel)",
   "language": "python",
   "name": "python3"
  },
  "language_info": {
   "codemirror_mode": {
    "name": "ipython",
    "version": 3
   },
   "file_extension": ".py",
   "mimetype": "text/x-python",
   "name": "python",
   "nbconvert_exporter": "python",
   "pygments_lexer": "ipython3",
   "version": "3.12.5"
  }
 },
 "nbformat": 4,
 "nbformat_minor": 5
}
