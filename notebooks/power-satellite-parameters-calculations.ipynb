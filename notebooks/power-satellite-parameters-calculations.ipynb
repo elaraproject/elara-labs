{
 "cells": [
  {
   "cell_type": "markdown",
   "id": "10a8ad05-6765-48ce-be0b-fa2a655084d1",
   "metadata": {},
   "source": [
    "# Calculations for determining power satellite parameters from theoretical values"
   ]
  },
  {
   "cell_type": "markdown",
   "id": "0f955cfa-7ae7-489b-bf6f-ad78ee2dfe40",
   "metadata": {},
   "source": [
    "Actually this should probably be a myst notebook that uses the Obsidian draft because we always prefer raw markdown that is easily editable in obsidian instead of jupyter notebooks that have a lot of overhead."
   ]
  }
 ],
 "metadata": {
  "kernelspec": {
   "display_name": "Python 3 (ipykernel)",
   "language": "python",
   "name": "python3"
  },
  "language_info": {
   "codemirror_mode": {
    "name": "ipython",
    "version": 3
   },
   "file_extension": ".py",
   "mimetype": "text/x-python",
   "name": "python",
   "nbconvert_exporter": "python",
   "pygments_lexer": "ipython3",
   "version": "3.12.5"
  }
 },
 "nbformat": 4,
 "nbformat_minor": 5
}
